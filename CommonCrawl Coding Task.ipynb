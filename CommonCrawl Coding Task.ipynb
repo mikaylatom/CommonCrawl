{
 "cells": [
  {
   "cell_type": "code",
   "execution_count": 10,
   "metadata": {},
   "outputs": [],
   "source": [
    "from comcrawl import IndexClient\n",
    "import pandas as pd"
   ]
  },
  {
   "cell_type": "markdown",
   "metadata": {},
   "source": [
    "# Chosing all 2020 Archives to search for articles #"
   ]
  },
  {
   "cell_type": "code",
   "execution_count": 69,
   "metadata": {},
   "outputs": [],
   "source": [
    "client = IndexClient(['2020-5' ,'2020-10', '2020-16', '2020-24', '2020-29', '2020-34', '2020-40', '2020-45', '2020-50'])"
   ]
  },
  {
   "cell_type": "markdown",
   "metadata": {},
   "source": [
    "# Top news or covid related sources to search key words #"
   ]
  },
  {
   "cell_type": "code",
   "execution_count": 179,
   "metadata": {},
   "outputs": [],
   "source": [
    "client.search('https://www.brookings.edu/*')\n",
    "urls= []\n",
    "for i in pd.DataFrame(client.results)['url']:\n",
    "    if (('economy' in i or \"wealth\" in i or 'finance' in i or 'unemployment' in i or 'market' in i) and ('covid' in i or 'corona' in i or 'pandemic' in i)):\n",
    "            urls.append(i)"
   ]
  },
  {
   "cell_type": "code",
   "execution_count": 180,
   "metadata": {},
   "outputs": [],
   "source": [
    "client.search('https://www.forbes.com*')\n",
    "for i in pd.DataFrame(client.results)['url']:\n",
    "    if ('economy' in i or \"wealth\" in i or 'finance' in i or 'unemployment' in i or 'market' in i) and ('covid' in i or 'corona' in i or 'pandemic' in i):\n",
    "        urls.append(i)"
   ]
  },
  {
   "cell_type": "code",
   "execution_count": 181,
   "metadata": {},
   "outputs": [],
   "source": [
    "\n",
    "client.search('https://www.wsj.com/*')\n",
    "for i in pd.DataFrame(client.results)['url']:\n",
    "    if ('economy' in i or \"wealth\" in i or 'finance' in i or 'unemployment' in i or 'market' in i) and ('covid' in i or 'corona' in i or 'pandemic' in i):\n",
    "        urls.append(i)"
   ]
  },
  {
   "cell_type": "code",
   "execution_count": 184,
   "metadata": {},
   "outputs": [],
   "source": [
    "client.search('https://www.pewresearch.org/*')\n",
    "for i in pd.DataFrame(client.results)['url']:\n",
    "    if ('economy' in i or \"wealth\" in i or 'finance' in i or 'unemployment' in i or 'market' in i) and ('covid' in i or 'corona' in i or 'pandemic' in i):\n",
    "        urls.append(i)"
   ]
  },
  {
   "cell_type": "code",
   "execution_count": 185,
   "metadata": {},
   "outputs": [],
   "source": [
    "\n",
    "client.search('https://www.theguardian.com/*')\n",
    "for i in pd.DataFrame(client.results)['url']:\n",
    "    if ('economy' in i or \"wealth\" in i or 'finance' in i or 'unemployment' in i or 'market' in i) and ('covid' in i or 'corona' in i or 'pandemic' in i):\n",
    "        urls.append(i)\n"
   ]
  },
  {
   "cell_type": "code",
   "execution_count": 186,
   "metadata": {},
   "outputs": [],
   "source": [
    "\n",
    "client.search('https://cnbc.com/*')\n",
    "for i in pd.DataFrame(client.results)['url']:\n",
    "    if ('economy' in i or \"wealth\" in i or 'finance' in i or 'unemployment' in i or 'market' in i) and ('covid' in i or 'corona' in i or 'pandemic' in i):\n",
    "        urls.append(i)"
   ]
  },
  {
   "cell_type": "code",
   "execution_count": 187,
   "metadata": {},
   "outputs": [],
   "source": [
    "client.search('https://economist.com/*')\n",
    "for i in pd.DataFrame(client.results)['url']:\n",
    "    if ('economy' in i or \"wealth\" in i or 'finance' in i or 'unemployment' in i or 'market' in i) and ('covid' in i or 'corona' in i or 'pandemic' in i):\n",
    "        urls.append(i)\n"
   ]
  },
  {
   "cell_type": "code",
   "execution_count": 188,
   "metadata": {},
   "outputs": [],
   "source": [
    "client.search('https://france24.com/*')\n",
    "for i in pd.DataFrame(client.results)['url']:\n",
    "    if ('economy' in i or \"wealth\" in i or 'finance' in i or 'unemployment' in i or 'market' in i) and ('covid' in i or 'corona' in i or 'pandemic' in i):\n",
    "        urls.append(i)\n",
    "        "
   ]
  },
  {
   "cell_type": "code",
   "execution_count": 189,
   "metadata": {},
   "outputs": [],
   "source": [
    "client.search('https://delawareonline.com/*')\n",
    "for i in pd.DataFrame(client.results)['url']:\n",
    "    if ('economy' in i or \"wealth\" in i or 'finance' in i or 'unemployment' in i or 'market' in i) and ('covid' in i or 'corona' in i or 'pandemic' in i):\n",
    "        urls.append(i)"
   ]
  },
  {
   "cell_type": "code",
   "execution_count": 190,
   "metadata": {},
   "outputs": [],
   "source": [
    "client.search('https://bloomberg.com/*')\n",
    "for i in pd.DataFrame(client.results)['url']:\n",
    "    if ('economy' in i or \"wealth\" in i or 'finance' in i or 'unemployment' in i or 'market' in i) and ('covid' in i or 'corona' in i or 'pandemic' in i):\n",
    "        urls.append(i)"
   ]
  },
  {
   "cell_type": "markdown",
   "metadata": {},
   "source": [
    "# Creating table with all urls that contain articles regarding econimic impact of Covid "
   ]
  },
  {
   "cell_type": "code",
   "execution_count": 193,
   "metadata": {},
   "outputs": [],
   "source": [
    "urls_df = pd.DataFrame(urls, columns = ['urls'])"
   ]
  },
  {
   "cell_type": "code",
   "execution_count": 194,
   "metadata": {},
   "outputs": [
    {
     "data": {
      "text/html": [
       "<div>\n",
       "<style scoped>\n",
       "    .dataframe tbody tr th:only-of-type {\n",
       "        vertical-align: middle;\n",
       "    }\n",
       "\n",
       "    .dataframe tbody tr th {\n",
       "        vertical-align: top;\n",
       "    }\n",
       "\n",
       "    .dataframe thead th {\n",
       "        text-align: right;\n",
       "    }\n",
       "</style>\n",
       "<table border=\"1\" class=\"dataframe\">\n",
       "  <thead>\n",
       "    <tr style=\"text-align: right;\">\n",
       "      <th></th>\n",
       "      <th>urls</th>\n",
       "    </tr>\n",
       "  </thead>\n",
       "  <tbody>\n",
       "    <tr>\n",
       "      <th>0</th>\n",
       "      <td>https://www.brookings.edu/blog/the-avenue/2020...</td>\n",
       "    </tr>\n",
       "    <tr>\n",
       "      <th>1</th>\n",
       "      <td>https://www.brookings.edu/blog/the-avenue/2020...</td>\n",
       "    </tr>\n",
       "    <tr>\n",
       "      <th>2</th>\n",
       "      <td>https://www.brookings.edu/articles/covid-19-ra...</td>\n",
       "    </tr>\n",
       "    <tr>\n",
       "      <th>3</th>\n",
       "      <td>https://www.brookings.edu/articles/video-rakes...</td>\n",
       "    </tr>\n",
       "    <tr>\n",
       "      <th>4</th>\n",
       "      <td>https://www.brookings.edu/blog/africa-in-focus...</td>\n",
       "    </tr>\n",
       "    <tr>\n",
       "      <th>...</th>\n",
       "      <td>...</td>\n",
       "    </tr>\n",
       "    <tr>\n",
       "      <th>1200</th>\n",
       "      <td>https://www.bloomberg.com/graphics/2020-opinio...</td>\n",
       "    </tr>\n",
       "    <tr>\n",
       "      <th>1201</th>\n",
       "      <td>https://www.bloomberg.com/amp/news/articles/20...</td>\n",
       "    </tr>\n",
       "    <tr>\n",
       "      <th>1202</th>\n",
       "      <td>https://www.bloomberg.com/amp/news/features/20...</td>\n",
       "    </tr>\n",
       "    <tr>\n",
       "      <th>1203</th>\n",
       "      <td>https://www.bloomberg.com/amp/opinion/articles...</td>\n",
       "    </tr>\n",
       "    <tr>\n",
       "      <th>1204</th>\n",
       "      <td>https://www.bloomberg.com/amp/opinion/articles...</td>\n",
       "    </tr>\n",
       "  </tbody>\n",
       "</table>\n",
       "<p>1205 rows × 1 columns</p>\n",
       "</div>"
      ],
      "text/plain": [
       "                                                   urls\n",
       "0     https://www.brookings.edu/blog/the-avenue/2020...\n",
       "1     https://www.brookings.edu/blog/the-avenue/2020...\n",
       "2     https://www.brookings.edu/articles/covid-19-ra...\n",
       "3     https://www.brookings.edu/articles/video-rakes...\n",
       "4     https://www.brookings.edu/blog/africa-in-focus...\n",
       "...                                                 ...\n",
       "1200  https://www.bloomberg.com/graphics/2020-opinio...\n",
       "1201  https://www.bloomberg.com/amp/news/articles/20...\n",
       "1202  https://www.bloomberg.com/amp/news/features/20...\n",
       "1203  https://www.bloomberg.com/amp/opinion/articles...\n",
       "1204  https://www.bloomberg.com/amp/opinion/articles...\n",
       "\n",
       "[1205 rows x 1 columns]"
      ]
     },
     "execution_count": 194,
     "metadata": {},
     "output_type": "execute_result"
    }
   ],
   "source": [
    "urls_df"
   ]
  }
 ],
 "metadata": {
  "kernelspec": {
   "display_name": "Python 3",
   "language": "python",
   "name": "python3"
  },
  "language_info": {
   "codemirror_mode": {
    "name": "ipython",
    "version": 3
   },
   "file_extension": ".py",
   "mimetype": "text/x-python",
   "name": "python",
   "nbconvert_exporter": "python",
   "pygments_lexer": "ipython3",
   "version": "3.7.3"
  }
 },
 "nbformat": 4,
 "nbformat_minor": 4
}
